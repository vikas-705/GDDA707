{
  "nbformat": 4,
  "nbformat_minor": 0,
  "metadata": {
    "colab": {
      "provenance": []
    },
    "kernelspec": {
      "name": "python3",
      "display_name": "Python 3"
    },
    "language_info": {
      "name": "python"
    }
  },
  "cells": [
    {
      "cell_type": "code",
      "execution_count": 1,
      "metadata": {
        "id": "2BTU-dqu3MmA"
      },
      "outputs": [],
      "source": [
        "import pandas as pd"
      ]
    },
    {
      "cell_type": "code",
      "source": [
        "try:\n",
        "    supply_chain_df = pd.read_csv('DataCoSupplyChainDataset.csv', encoding='ISO-8859-1')\n",
        "except UnicodeDecodeError:\n",
        "    print(\"Encoding error: Trying a different encoding.\")\n",
        "    # Try another encoding if needed\n",
        "    supply_chain_df = pd.read_csv('DataCoSupplyChainDataset.csv', encoding='cp1252')\n",
        "\n"
      ],
      "metadata": {
        "id": "RTk8Tw5O3Sn9"
      },
      "execution_count": 7,
      "outputs": []
    },
    {
      "cell_type": "code",
      "source": [
        "# Repeat for the second dataset\n",
        "try:\n",
        "    credit_df = pd.read_csv('dataset.csv', encoding='ISO-8859-1')\n",
        "except UnicodeDecodeError:\n",
        "    print(\"Encoding error: Trying a different encoding.\")\n",
        "    # Try another encoding if needed\n",
        "    credit_df = pd.read_csv('dataset.csv', encoding='cp1252')"
      ],
      "metadata": {
        "id": "Qn6R7V5G3Sqz"
      },
      "execution_count": 8,
      "outputs": []
    },
    {
      "cell_type": "code",
      "source": [
        "print(supply_chain_df.info())\n",
        "print(supply_chain_df.head())"
      ],
      "metadata": {
        "colab": {
          "base_uri": "https://localhost:8080/"
        },
        "id": "ksQUi7ZS3Str",
        "outputId": "b2d45653-3dc3-4ce4-9311-b0f236e6367a"
      },
      "execution_count": 9,
      "outputs": [
        {
          "output_type": "stream",
          "name": "stdout",
          "text": [
            "<class 'pandas.core.frame.DataFrame'>\n",
            "RangeIndex: 12417 entries, 0 to 12416\n",
            "Data columns (total 51 columns):\n",
            " #   Column                         Non-Null Count  Dtype  \n",
            "---  ------                         --------------  -----  \n",
            " 0   Type                           12417 non-null  object \n",
            " 1   Days for shipping (real)       12417 non-null  int64  \n",
            " 2   Days for shipment (scheduled)  12417 non-null  int64  \n",
            " 3   Benefit per order              12417 non-null  float64\n",
            " 4   Sales per customer             12417 non-null  float64\n",
            " 5   Delivery Status                12417 non-null  object \n",
            " 6   Late_delivery_risk             12417 non-null  int64  \n",
            " 7   Category Id                    12417 non-null  int64  \n",
            " 8   Category Name                  12417 non-null  object \n",
            " 9   Customer City                  12417 non-null  object \n",
            " 10  Customer Country               12417 non-null  object \n",
            " 11  Customer Fname                 12417 non-null  object \n",
            " 12  Customer Id                    12417 non-null  int64  \n",
            " 13  Customer Lname                 12417 non-null  object \n",
            " 14  Customer Segment               12417 non-null  object \n",
            " 15  Customer State                 12417 non-null  object \n",
            " 16  Customer Street                12417 non-null  object \n",
            " 17  Customer Zipcode               12417 non-null  int64  \n",
            " 18  Department Id                  12417 non-null  int64  \n",
            " 19  Department Name                12417 non-null  object \n",
            " 20  Latitude                       12417 non-null  float64\n",
            " 21  Longitude                      12417 non-null  float64\n",
            " 22  Market                         12417 non-null  object \n",
            " 23  Order City                     12417 non-null  object \n",
            " 24  Order Country                  12417 non-null  object \n",
            " 25  Order Customer Id              12417 non-null  int64  \n",
            " 26  order date (DateOrders)        12417 non-null  object \n",
            " 27  Order Id                       12417 non-null  int64  \n",
            " 28  Order Item Cardprod Id         12417 non-null  int64  \n",
            " 29  Order Item Discount            12417 non-null  float64\n",
            " 30  Order Item Discount Rate       12417 non-null  float64\n",
            " 31  Order Item Id                  12417 non-null  int64  \n",
            " 32  Order Item Product Price       12417 non-null  float64\n",
            " 33  Order Item Profit Ratio        12417 non-null  float64\n",
            " 34  Order Item Quantity            12417 non-null  int64  \n",
            " 35  Sales                          12417 non-null  float64\n",
            " 36  Order Item Total               12417 non-null  float64\n",
            " 37  Order Profit Per Order         12417 non-null  float64\n",
            " 38  Order Region                   12417 non-null  object \n",
            " 39  Order State                    12417 non-null  object \n",
            " 40  Order Status                   12417 non-null  object \n",
            " 41  Order Zipcode                  1546 non-null   float64\n",
            " 42  Product Card Id                12416 non-null  float64\n",
            " 43  Product Category Id            12416 non-null  float64\n",
            " 44  Product Description            0 non-null      float64\n",
            " 45  Product Image                  12416 non-null  object \n",
            " 46  Product Name                   12416 non-null  object \n",
            " 47  Product Price                  12416 non-null  float64\n",
            " 48  Product Status                 12416 non-null  float64\n",
            " 49  shipping date (DateOrders)     12416 non-null  object \n",
            " 50  Shipping Mode                  12416 non-null  object \n",
            "dtypes: float64(17), int64(12), object(22)\n",
            "memory usage: 4.8+ MB\n",
            "None\n",
            "       Type  Days for shipping (real)  Days for shipment (scheduled)  \\\n",
            "0     DEBIT                         3                              4   \n",
            "1  TRANSFER                         5                              4   \n",
            "2      CASH                         4                              4   \n",
            "3     DEBIT                         3                              4   \n",
            "4   PAYMENT                         2                              4   \n",
            "\n",
            "   Benefit per order  Sales per customer   Delivery Status  \\\n",
            "0          91.250000          314.640015  Advance shipping   \n",
            "1        -249.089996          311.359985     Late delivery   \n",
            "2        -247.779999          309.720001  Shipping on time   \n",
            "3          22.860001          304.809998  Advance shipping   \n",
            "4         134.210007          298.250000  Advance shipping   \n",
            "\n",
            "   Late_delivery_risk  Category Id   Category Name Customer City  ...  \\\n",
            "0                   0           73  Sporting Goods        Caguas  ...   \n",
            "1                   1           73  Sporting Goods        Caguas  ...   \n",
            "2                   0           73  Sporting Goods      San Jose  ...   \n",
            "3                   0           73  Sporting Goods   Los Angeles  ...   \n",
            "4                   0           73  Sporting Goods        Caguas  ...   \n",
            "\n",
            "  Order Zipcode Product Card Id  Product Category Id Product Description  \\\n",
            "0           NaN          1360.0                 73.0                 NaN   \n",
            "1           NaN          1360.0                 73.0                 NaN   \n",
            "2           NaN          1360.0                 73.0                 NaN   \n",
            "3           NaN          1360.0                 73.0                 NaN   \n",
            "4           NaN          1360.0                 73.0                 NaN   \n",
            "\n",
            "                                  Product Image  Product Name Product Price  \\\n",
            "0  http://images.acmesports.sports/Smart+watch   Smart watch         327.75   \n",
            "1  http://images.acmesports.sports/Smart+watch   Smart watch         327.75   \n",
            "2  http://images.acmesports.sports/Smart+watch   Smart watch         327.75   \n",
            "3  http://images.acmesports.sports/Smart+watch   Smart watch         327.75   \n",
            "4  http://images.acmesports.sports/Smart+watch   Smart watch         327.75   \n",
            "\n",
            "   Product Status  shipping date (DateOrders)   Shipping Mode  \n",
            "0             0.0              2/3/2018 22:56  Standard Class  \n",
            "1             0.0             1/18/2018 12:27  Standard Class  \n",
            "2             0.0             1/17/2018 12:06  Standard Class  \n",
            "3             0.0             1/16/2018 11:45  Standard Class  \n",
            "4             0.0             1/15/2018 11:24  Standard Class  \n",
            "\n",
            "[5 rows x 51 columns]\n"
          ]
        }
      ]
    },
    {
      "cell_type": "code",
      "source": [
        "supply_chain_df = supply_chain_df.dropna(axis=1, thresh=len(supply_chain_df) * 0.5)"
      ],
      "metadata": {
        "id": "7TgQhFZ93Swx"
      },
      "execution_count": 10,
      "outputs": []
    },
    {
      "cell_type": "code",
      "source": [
        "for col in supply_chain_df.select_dtypes(include=['float64', 'int64']).columns:\n",
        "    supply_chain_df[col].fillna(supply_chain_df[col].median(), inplace=True)\n"
      ],
      "metadata": {
        "id": "ztc2gzkM3Szd"
      },
      "execution_count": 11,
      "outputs": []
    },
    {
      "cell_type": "code",
      "source": [
        "for col in supply_chain_df.select_dtypes(include=['object']).columns:\n",
        "    supply_chain_df[col].fillna(supply_chain_df[col].mode()[0], inplace=True)\n"
      ],
      "metadata": {
        "id": "QTJAMdbn4-jo"
      },
      "execution_count": 12,
      "outputs": []
    },
    {
      "cell_type": "code",
      "source": [
        "supply_chain_df['order date (DateOrders)'] = pd.to_datetime(supply_chain_df['order date (DateOrders)'])\n",
        "supply_chain_df['shipping date (DateOrders)'] = pd.to_datetime(supply_chain_df['shipping date (DateOrders)'])\n"
      ],
      "metadata": {
        "id": "-fpDzrM33S2X"
      },
      "execution_count": 13,
      "outputs": []
    },
    {
      "cell_type": "code",
      "source": [
        "credit_df = credit_df[credit_df['Credit amount'] >= 0]  # Example filter"
      ],
      "metadata": {
        "id": "kZfmgILb3S5B"
      },
      "execution_count": 16,
      "outputs": []
    },
    {
      "cell_type": "code",
      "source": [
        "print(credit_df.info())\n",
        "print(credit_df.head())"
      ],
      "metadata": {
        "colab": {
          "base_uri": "https://localhost:8080/"
        },
        "id": "BX28b_nG3S8P",
        "outputId": "57d03ffb-9850-4182-9e62-db15ebfc8c62"
      },
      "execution_count": 17,
      "outputs": [
        {
          "output_type": "stream",
          "name": "stdout",
          "text": [
            "<class 'pandas.core.frame.DataFrame'>\n",
            "RangeIndex: 1000 entries, 0 to 999\n",
            "Data columns (total 21 columns):\n",
            " #   Column                                                    Non-Null Count  Dtype \n",
            "---  ------                                                    --------------  ----- \n",
            " 0   id                                                        1000 non-null   int64 \n",
            " 1   Duration in months                                        1000 non-null   int64 \n",
            " 2   Credit history                                            1000 non-null   object\n",
            " 3   Purpose of the credit                                     1000 non-null   object\n",
            " 4   Credit amount                                             1000 non-null   int64 \n",
            " 5   Status of savings account/bonds                           1000 non-null   object\n",
            " 6   Present employment(years)                                 1000 non-null   object\n",
            " 7   Installment rate in percentage of disposable income       1000 non-null   int64 \n",
            " 8   personal_status                                           1000 non-null   object\n",
            " 9   Other debtors / guarantors                                1000 non-null   object\n",
            " 10  Present residence since X years                           1000 non-null   int64 \n",
            " 11  Property                                                  1000 non-null   object\n",
            " 12  Age in years                                              1000 non-null   int64 \n",
            " 13  Other installment plans (banks/stores)                    1000 non-null   object\n",
            " 14  Housing                                                   1000 non-null   object\n",
            " 15  Number of existing credits at this bank                   1000 non-null   int64 \n",
            " 16  Job                                                       1000 non-null   object\n",
            " 17  Number of people being liable to provide maintenance for  1000 non-null   int64 \n",
            " 18  Telephone                                                 1000 non-null   object\n",
            " 19  Foreign worker                                            1000 non-null   object\n",
            " 20  Status of existing checking account                       1000 non-null   object\n",
            "dtypes: int64(8), object(13)\n",
            "memory usage: 164.2+ KB\n",
            "None\n",
            "   id  Duration in months                  Credit history  \\\n",
            "0   1                   6  critical/other existing credit   \n",
            "1   2                  48                   existing paid   \n",
            "2   3                  12  critical/other existing credit   \n",
            "3   4                  42                   existing paid   \n",
            "4   5                  24              delayed previously   \n",
            "\n",
            "  Purpose of the credit  Credit amount Status of savings account/bonds  \\\n",
            "0              radio/tv           1169                no known savings   \n",
            "1              radio/tv           5951                            <100   \n",
            "2             education           2096                            <100   \n",
            "3   furniture/equipment           7882                            <100   \n",
            "4               new car           4870                            <100   \n",
            "\n",
            "  Present employment(years)  \\\n",
            "0                       >=7   \n",
            "1                    1<=X<4   \n",
            "2                    4<=X<7   \n",
            "3                    4<=X<7   \n",
            "4                    1<=X<4   \n",
            "\n",
            "   Installment rate in percentage of disposable income     personal_status  \\\n",
            "0                                                  4           male single   \n",
            "1                                                  2    female div/dep/mar   \n",
            "2                                                  2           male single   \n",
            "3                                                  2           male single   \n",
            "4                                                  3           male single   \n",
            "\n",
            "  Other debtors / guarantors  ...           Property Age in years  \\\n",
            "0                       none  ...        real estate           67   \n",
            "1                       none  ...        real estate           22   \n",
            "2                       none  ...        real estate           49   \n",
            "3                  guarantor  ...     life insurance           45   \n",
            "4                       none  ...  no known property           53   \n",
            "\n",
            "   Other installment plans (banks/stores)   Housing  \\\n",
            "0                                    none       own   \n",
            "1                                    none       own   \n",
            "2                                    none       own   \n",
            "3                                    none  for free   \n",
            "4                                    none  for free   \n",
            "\n",
            "  Number of existing credits at this bank                 Job  \\\n",
            "0                                       2             skilled   \n",
            "1                                       1             skilled   \n",
            "2                                       1  unskilled resident   \n",
            "3                                       1             skilled   \n",
            "4                                       2             skilled   \n",
            "\n",
            "  Number of people being liable to provide maintenance for  Telephone  \\\n",
            "0                                                  1              yes   \n",
            "1                                                  1             none   \n",
            "2                                                  2             none   \n",
            "3                                                  2             none   \n",
            "4                                                  2             none   \n",
            "\n",
            "  Foreign worker Status of existing checking account  \n",
            "0            yes                                good  \n",
            "1            yes                                 bad  \n",
            "2            yes                                good  \n",
            "3            yes                                good  \n",
            "4            yes                                 bad  \n",
            "\n",
            "[5 rows x 21 columns]\n"
          ]
        }
      ]
    },
    {
      "cell_type": "code",
      "source": [
        "credit_df = credit_df.dropna(axis=1, thresh=len(credit_df) * 0.5)"
      ],
      "metadata": {
        "id": "mCCrlboZ5yX2"
      },
      "execution_count": 18,
      "outputs": []
    },
    {
      "cell_type": "code",
      "source": [
        "for col in credit_df.select_dtypes(include=['float64', 'int64']).columns:\n",
        "    credit_df[col].fillna(credit_df[col].median(), inplace=True)"
      ],
      "metadata": {
        "id": "NuJ9bFB25yb_"
      },
      "execution_count": 19,
      "outputs": []
    },
    {
      "cell_type": "code",
      "source": [
        "for col in credit_df.select_dtypes(include=['object']).columns:\n",
        "    credit_df[col].fillna(credit_df[col].mode()[0], inplace=True)\n"
      ],
      "metadata": {
        "id": "h4Nw6lpN5yfS"
      },
      "execution_count": 20,
      "outputs": []
    },
    {
      "cell_type": "code",
      "source": [
        "credit_df = credit_df[credit_df['Credit amount'] >= 0]"
      ],
      "metadata": {
        "id": "ECBySBVP5yiX"
      },
      "execution_count": 21,
      "outputs": []
    },
    {
      "cell_type": "code",
      "source": [
        "from sklearn.preprocessing import LabelEncoder"
      ],
      "metadata": {
        "id": "HZY8cJtj5ylF"
      },
      "execution_count": 22,
      "outputs": []
    },
    {
      "cell_type": "code",
      "source": [
        "label_encoders = {}\n",
        "for col in supply_chain_df.select_dtypes(include=['object']).columns:\n",
        "    le = LabelEncoder()\n",
        "    supply_chain_df[col] = le.fit_transform(supply_chain_df[col].astype(str))\n",
        "    label_encoders[col] = le"
      ],
      "metadata": {
        "id": "ZCEUeT0c5yn3"
      },
      "execution_count": 23,
      "outputs": []
    },
    {
      "cell_type": "code",
      "source": [
        "from sklearn.preprocessing import MinMaxScaler"
      ],
      "metadata": {
        "id": "DMWyb9Bp5yr6"
      },
      "execution_count": 24,
      "outputs": []
    },
    {
      "cell_type": "code",
      "source": [
        "scaler = MinMaxScaler()\n",
        "numeric_cols = supply_chain_df.select_dtypes(include=['float64', 'int64']).columns\n",
        "supply_chain_df[numeric_cols] = scaler.fit_transform(supply_chain_df[numeric_cols])"
      ],
      "metadata": {
        "id": "bSgbf-hm5yu5"
      },
      "execution_count": 25,
      "outputs": []
    },
    {
      "cell_type": "code",
      "source": [
        "label_encoders = {}\n",
        "for col in credit_df.select_dtypes(include=['object']).columns:\n",
        "    le = LabelEncoder()\n",
        "    credit_df[col] = le.fit_transform(credit_df[col].astype(str))\n",
        "    label_encoders[col] = le"
      ],
      "metadata": {
        "id": "ZNJiFZAB6Dkb"
      },
      "execution_count": 26,
      "outputs": []
    },
    {
      "cell_type": "code",
      "source": [
        "scaler = MinMaxScaler()\n",
        "numeric_cols = credit_df.select_dtypes(include=['float64', 'int64']).columns\n",
        "credit_df[numeric_cols] = scaler.fit_transform(credit_df[numeric_cols])"
      ],
      "metadata": {
        "id": "gUIio30p6DoJ"
      },
      "execution_count": 27,
      "outputs": []
    },
    {
      "cell_type": "code",
      "source": [
        "supply_chain_df.to_csv('cleaned_DataCoSupplyChainDataset.csv', index=False)\n",
        "credit_df.to_csv('cleaned_dataset.csv', index=False)"
      ],
      "metadata": {
        "id": "yL7SpGJ-6Drj"
      },
      "execution_count": 28,
      "outputs": []
    },
    {
      "cell_type": "code",
      "source": [
        "credit_df.to_csv"
      ],
      "metadata": {
        "colab": {
          "base_uri": "https://localhost:8080/",
          "height": 291
        },
        "id": "zI_spMIt6DvA",
        "outputId": "8582655d-16f9-48a1-8469-a7e52890f8c0"
      },
      "execution_count": 33,
      "outputs": [
        {
          "output_type": "execute_result",
          "data": {
            "text/plain": [
              "<bound method NDFrame.to_csv of            id  Duration in months  Credit history  Purpose of the credit  \\\n",
              "0    0.000000            0.029412            0.25               0.666667   \n",
              "1    0.001001            0.647059            0.75               0.666667   \n",
              "2    0.002002            0.117647            0.25               0.222222   \n",
              "3    0.003003            0.558824            0.75               0.333333   \n",
              "4    0.004004            0.294118            0.50               0.444444   \n",
              "..        ...                 ...             ...                    ...   \n",
              "995  0.995996            0.117647            0.75               0.333333   \n",
              "996  0.996997            0.382353            0.75               1.000000   \n",
              "997  0.997998            0.117647            0.75               0.666667   \n",
              "998  0.998999            0.602941            0.75               0.666667   \n",
              "999  1.000000            0.602941            0.25               1.000000   \n",
              "\n",
              "     Credit amount  Status of savings account/bonds  \\\n",
              "0         0.050567                              1.0   \n",
              "1         0.313690                              0.5   \n",
              "2         0.101574                              0.5   \n",
              "3         0.419941                              0.5   \n",
              "4         0.254209                              0.5   \n",
              "..             ...                              ...   \n",
              "995       0.081765                              0.5   \n",
              "996       0.198470                              0.5   \n",
              "997       0.030483                              0.5   \n",
              "998       0.087763                              0.5   \n",
              "999       0.238032                              0.0   \n",
              "\n",
              "     Present employment(years)  \\\n",
              "0                         0.75   \n",
              "1                         0.00   \n",
              "2                         0.25   \n",
              "3                         0.25   \n",
              "4                         0.00   \n",
              "..                         ...   \n",
              "995                       0.25   \n",
              "996                       0.00   \n",
              "997                       0.75   \n",
              "998                       0.00   \n",
              "999                       1.00   \n",
              "\n",
              "     Installment rate in percentage of disposable income  personal_status  \\\n",
              "0                                             1.000000           1.000000   \n",
              "1                                             0.333333           0.000000   \n",
              "2                                             0.333333           1.000000   \n",
              "3                                             0.333333           1.000000   \n",
              "4                                             0.666667           1.000000   \n",
              "..                                                 ...                ...   \n",
              "995                                           0.666667           0.000000   \n",
              "996                                           1.000000           0.333333   \n",
              "997                                           1.000000           1.000000   \n",
              "998                                           1.000000           1.000000   \n",
              "999                                           0.666667           1.000000   \n",
              "\n",
              "     Other debtors / guarantors  ...  Property  Age in years  \\\n",
              "0                           1.0  ...  1.000000      0.857143   \n",
              "1                           1.0  ...  1.000000      0.053571   \n",
              "2                           1.0  ...  1.000000      0.535714   \n",
              "3                           0.5  ...  0.333333      0.464286   \n",
              "4                           1.0  ...  0.666667      0.607143   \n",
              "..                          ...  ...       ...           ...   \n",
              "995                         1.0  ...  1.000000      0.214286   \n",
              "996                         1.0  ...  0.333333      0.375000   \n",
              "997                         1.0  ...  0.000000      0.339286   \n",
              "998                         1.0  ...  0.666667      0.071429   \n",
              "999                         1.0  ...  0.000000      0.142857   \n",
              "\n",
              "     Other installment plans (banks/stores)  Housing  \\\n",
              "0                                       0.5      0.5   \n",
              "1                                       0.5      0.5   \n",
              "2                                       0.5      0.5   \n",
              "3                                       0.5      0.0   \n",
              "4                                       0.5      0.0   \n",
              "..                                      ...      ...   \n",
              "995                                     0.5      0.5   \n",
              "996                                     0.5      0.5   \n",
              "997                                     0.5      0.5   \n",
              "998                                     0.5      0.0   \n",
              "999                                     0.5      0.5   \n",
              "\n",
              "     Number of existing credits at this bank       Job  \\\n",
              "0                                   0.333333  0.333333   \n",
              "1                                   0.000000  0.333333   \n",
              "2                                   0.000000  1.000000   \n",
              "3                                   0.000000  0.333333   \n",
              "4                                   0.333333  0.333333   \n",
              "..                                       ...       ...   \n",
              "995                                 0.000000  1.000000   \n",
              "996                                 0.000000  0.000000   \n",
              "997                                 0.000000  0.333333   \n",
              "998                                 0.000000  0.333333   \n",
              "999                                 0.000000  0.333333   \n",
              "\n",
              "     Number of people being liable to provide maintenance for  Telephone  \\\n",
              "0                                                  0.0               1.0   \n",
              "1                                                  0.0               0.0   \n",
              "2                                                  1.0               0.0   \n",
              "3                                                  1.0               0.0   \n",
              "4                                                  1.0               0.0   \n",
              "..                                                 ...               ...   \n",
              "995                                                0.0               0.0   \n",
              "996                                                0.0               1.0   \n",
              "997                                                0.0               0.0   \n",
              "998                                                0.0               1.0   \n",
              "999                                                0.0               0.0   \n",
              "\n",
              "     Foreign worker  Status of existing checking account  \n",
              "0               1.0                                  1.0  \n",
              "1               1.0                                  0.0  \n",
              "2               1.0                                  1.0  \n",
              "3               1.0                                  1.0  \n",
              "4               1.0                                  0.0  \n",
              "..              ...                                  ...  \n",
              "995             1.0                                  1.0  \n",
              "996             1.0                                  1.0  \n",
              "997             1.0                                  1.0  \n",
              "998             1.0                                  0.0  \n",
              "999             1.0                                  1.0  \n",
              "\n",
              "[1000 rows x 21 columns]>"
            ],
            "text/html": [
              "<div style=\"max-width:800px; border: 1px solid var(--colab-border-color);\"><style>\n",
              "      pre.function-repr-contents {\n",
              "        overflow-x: auto;\n",
              "        padding: 8px 12px;\n",
              "        max-height: 500px;\n",
              "      }\n",
              "\n",
              "      pre.function-repr-contents.function-repr-contents-collapsed {\n",
              "        cursor: pointer;\n",
              "        max-height: 100px;\n",
              "      }\n",
              "    </style>\n",
              "    <pre style=\"white-space: initial; background:\n",
              "         var(--colab-secondary-surface-color); padding: 8px 12px;\n",
              "         border-bottom: 1px solid var(--colab-border-color);\"><b>pandas.core.generic.NDFrame.to_csv</b><br/>def to_csv(path_or_buf: FilePath | WriteBuffer[bytes] | WriteBuffer[str] | None=None, sep: str=&#x27;,&#x27;, na_rep: str=&#x27;&#x27;, float_format: str | Callable | None=None, columns: Sequence[Hashable] | None=None, header: bool_t | list[str]=True, index: bool_t=True, index_label: IndexLabel | None=None, mode: str=&#x27;w&#x27;, encoding: str | None=None, compression: CompressionOptions=&#x27;infer&#x27;, quoting: int | None=None, quotechar: str=&#x27;&quot;&#x27;, lineterminator: str | None=None, chunksize: int | None=None, date_format: str | None=None, doublequote: bool_t=True, escapechar: str | None=None, decimal: str=&#x27;.&#x27;, errors: str=&#x27;strict&#x27;, storage_options: StorageOptions=None) -&gt; str | None</pre><pre class=\"function-repr-contents function-repr-contents-collapsed\" style=\"\"><a class=\"filepath\" style=\"display:none\" href=\"#\">/usr/local/lib/python3.10/dist-packages/pandas/core/generic.py</a>Write object to a comma-separated values (csv) file.\n",
              "\n",
              "Parameters\n",
              "----------\n",
              "path_or_buf : str, path object, file-like object, or None, default None\n",
              "    String, path object (implementing os.PathLike[str]), or file-like\n",
              "    object implementing a write() function. If None, the result is\n",
              "    returned as a string. If a non-binary file object is passed, it should\n",
              "    be opened with `newline=&#x27;&#x27;`, disabling universal newlines. If a binary\n",
              "    file object is passed, `mode` might need to contain a `&#x27;b&#x27;`.\n",
              "\n",
              "    .. versionchanged:: 1.2.0\n",
              "\n",
              "       Support for binary file objects was introduced.\n",
              "\n",
              "sep : str, default &#x27;,&#x27;\n",
              "    String of length 1. Field delimiter for the output file.\n",
              "na_rep : str, default &#x27;&#x27;\n",
              "    Missing data representation.\n",
              "float_format : str, Callable, default None\n",
              "    Format string for floating point numbers. If a Callable is given, it takes\n",
              "    precedence over other numeric formatting parameters, like decimal.\n",
              "columns : sequence, optional\n",
              "    Columns to write.\n",
              "header : bool or list of str, default True\n",
              "    Write out the column names. If a list of strings is given it is\n",
              "    assumed to be aliases for the column names.\n",
              "index : bool, default True\n",
              "    Write row names (index).\n",
              "index_label : str or sequence, or False, default None\n",
              "    Column label for index column(s) if desired. If None is given, and\n",
              "    `header` and `index` are True, then the index names are used. A\n",
              "    sequence should be given if the object uses MultiIndex. If\n",
              "    False do not print fields for index names. Use index_label=False\n",
              "    for easier importing in R.\n",
              "mode : str, default &#x27;w&#x27;\n",
              "    Python write mode. The available write modes are the same as\n",
              "    :py:func:`open`.\n",
              "encoding : str, optional\n",
              "    A string representing the encoding to use in the output file,\n",
              "    defaults to &#x27;utf-8&#x27;. `encoding` is not supported if `path_or_buf`\n",
              "    is a non-binary file object.\n",
              "compression : str or dict, default &#x27;infer&#x27;\n",
              "    For on-the-fly compression of the output data. If &#x27;infer&#x27; and &#x27;path_or_buf&#x27; is\n",
              "    path-like, then detect compression from the following extensions: &#x27;.gz&#x27;,\n",
              "    &#x27;.bz2&#x27;, &#x27;.zip&#x27;, &#x27;.xz&#x27;, &#x27;.zst&#x27;, &#x27;.tar&#x27;, &#x27;.tar.gz&#x27;, &#x27;.tar.xz&#x27; or &#x27;.tar.bz2&#x27;\n",
              "    (otherwise no compression).\n",
              "    Set to ``None`` for no compression.\n",
              "    Can also be a dict with key ``&#x27;method&#x27;`` set\n",
              "    to one of {``&#x27;zip&#x27;``, ``&#x27;gzip&#x27;``, ``&#x27;bz2&#x27;``, ``&#x27;zstd&#x27;``, ``&#x27;tar&#x27;``} and other\n",
              "    key-value pairs are forwarded to\n",
              "    ``zipfile.ZipFile``, ``gzip.GzipFile``,\n",
              "    ``bz2.BZ2File``, ``zstandard.ZstdCompressor`` or\n",
              "    ``tarfile.TarFile``, respectively.\n",
              "    As an example, the following could be passed for faster compression and to create\n",
              "    a reproducible gzip archive:\n",
              "    ``compression={&#x27;method&#x27;: &#x27;gzip&#x27;, &#x27;compresslevel&#x27;: 1, &#x27;mtime&#x27;: 1}``.\n",
              "\n",
              "    .. versionadded:: 1.5.0\n",
              "        Added support for `.tar` files.\n",
              "\n",
              "    .. versionchanged:: 1.0.0\n",
              "\n",
              "       May now be a dict with key &#x27;method&#x27; as compression mode\n",
              "       and other entries as additional compression options if\n",
              "       compression mode is &#x27;zip&#x27;.\n",
              "\n",
              "    .. versionchanged:: 1.1.0\n",
              "\n",
              "       Passing compression options as keys in dict is\n",
              "       supported for compression modes &#x27;gzip&#x27;, &#x27;bz2&#x27;, &#x27;zstd&#x27;, and &#x27;zip&#x27;.\n",
              "\n",
              "    .. versionchanged:: 1.2.0\n",
              "\n",
              "        Compression is supported for binary file objects.\n",
              "\n",
              "    .. versionchanged:: 1.2.0\n",
              "\n",
              "        Previous versions forwarded dict entries for &#x27;gzip&#x27; to\n",
              "        `gzip.open` instead of `gzip.GzipFile` which prevented\n",
              "        setting `mtime`.\n",
              "\n",
              "quoting : optional constant from csv module\n",
              "    Defaults to csv.QUOTE_MINIMAL. If you have set a `float_format`\n",
              "    then floats are converted to strings and thus csv.QUOTE_NONNUMERIC\n",
              "    will treat them as non-numeric.\n",
              "quotechar : str, default &#x27;\\&quot;&#x27;\n",
              "    String of length 1. Character used to quote fields.\n",
              "lineterminator : str, optional\n",
              "    The newline character or character sequence to use in the output\n",
              "    file. Defaults to `os.linesep`, which depends on the OS in which\n",
              "    this method is called (&#x27;\\\\n&#x27; for linux, &#x27;\\\\r\\\\n&#x27; for Windows, i.e.).\n",
              "\n",
              "    .. versionchanged:: 1.5.0\n",
              "\n",
              "        Previously was line_terminator, changed for consistency with\n",
              "        read_csv and the standard library &#x27;csv&#x27; module.\n",
              "\n",
              "chunksize : int or None\n",
              "    Rows to write at a time.\n",
              "date_format : str, default None\n",
              "    Format string for datetime objects.\n",
              "doublequote : bool, default True\n",
              "    Control quoting of `quotechar` inside a field.\n",
              "escapechar : str, default None\n",
              "    String of length 1. Character used to escape `sep` and `quotechar`\n",
              "    when appropriate.\n",
              "decimal : str, default &#x27;.&#x27;\n",
              "    Character recognized as decimal separator. E.g. use &#x27;,&#x27; for\n",
              "    European data.\n",
              "errors : str, default &#x27;strict&#x27;\n",
              "    Specifies how encoding and decoding errors are to be handled.\n",
              "    See the errors argument for :func:`open` for a full list\n",
              "    of options.\n",
              "\n",
              "    .. versionadded:: 1.1.0\n",
              "\n",
              "storage_options : dict, optional\n",
              "    Extra options that make sense for a particular storage connection, e.g.\n",
              "    host, port, username, password, etc. For HTTP(S) URLs the key-value pairs\n",
              "    are forwarded to ``urllib.request.Request`` as header options. For other\n",
              "    URLs (e.g. starting with &quot;s3://&quot;, and &quot;gcs://&quot;) the key-value pairs are\n",
              "    forwarded to ``fsspec.open``. Please see ``fsspec`` and ``urllib`` for more\n",
              "    details, and for more examples on storage options refer `here\n",
              "    &lt;https://pandas.pydata.org/docs/user_guide/io.html?\n",
              "    highlight=storage_options#reading-writing-remote-files&gt;`_.\n",
              "\n",
              "    .. versionadded:: 1.2.0\n",
              "\n",
              "Returns\n",
              "-------\n",
              "None or str\n",
              "    If path_or_buf is None, returns the resulting csv format as a\n",
              "    string. Otherwise returns None.\n",
              "\n",
              "See Also\n",
              "--------\n",
              "read_csv : Load a CSV file into a DataFrame.\n",
              "to_excel : Write DataFrame to an Excel file.\n",
              "\n",
              "Examples\n",
              "--------\n",
              "&gt;&gt;&gt; df = pd.DataFrame({&#x27;name&#x27;: [&#x27;Raphael&#x27;, &#x27;Donatello&#x27;],\n",
              "...                    &#x27;mask&#x27;: [&#x27;red&#x27;, &#x27;purple&#x27;],\n",
              "...                    &#x27;weapon&#x27;: [&#x27;sai&#x27;, &#x27;bo staff&#x27;]})\n",
              "&gt;&gt;&gt; df.to_csv(index=False)\n",
              "&#x27;name,mask,weapon\\nRaphael,red,sai\\nDonatello,purple,bo staff\\n&#x27;\n",
              "\n",
              "Create &#x27;out.zip&#x27; containing &#x27;out.csv&#x27;\n",
              "\n",
              "&gt;&gt;&gt; compression_opts = dict(method=&#x27;zip&#x27;,\n",
              "...                         archive_name=&#x27;out.csv&#x27;)  # doctest: +SKIP\n",
              "&gt;&gt;&gt; df.to_csv(&#x27;out.zip&#x27;, index=False,\n",
              "...           compression=compression_opts)  # doctest: +SKIP\n",
              "\n",
              "To write a csv file to a new folder or nested folder you will first\n",
              "need to create it using either Pathlib or os:\n",
              "\n",
              "&gt;&gt;&gt; from pathlib import Path  # doctest: +SKIP\n",
              "&gt;&gt;&gt; filepath = Path(&#x27;folder/subfolder/out.csv&#x27;)  # doctest: +SKIP\n",
              "&gt;&gt;&gt; filepath.parent.mkdir(parents=True, exist_ok=True)  # doctest: +SKIP\n",
              "&gt;&gt;&gt; df.to_csv(filepath)  # doctest: +SKIP\n",
              "\n",
              "&gt;&gt;&gt; import os  # doctest: +SKIP\n",
              "&gt;&gt;&gt; os.makedirs(&#x27;folder/subfolder&#x27;, exist_ok=True)  # doctest: +SKIP\n",
              "&gt;&gt;&gt; df.to_csv(&#x27;folder/subfolder/out.csv&#x27;)  # doctest: +SKIP</pre>\n",
              "      <script>\n",
              "      if (google.colab.kernel.accessAllowed && google.colab.files && google.colab.files.view) {\n",
              "        for (const element of document.querySelectorAll('.filepath')) {\n",
              "          element.style.display = 'block'\n",
              "          element.onclick = (event) => {\n",
              "            event.preventDefault();\n",
              "            event.stopPropagation();\n",
              "            google.colab.files.view(element.textContent, 3589);\n",
              "          };\n",
              "        }\n",
              "      }\n",
              "      for (const element of document.querySelectorAll('.function-repr-contents')) {\n",
              "        element.onclick = (event) => {\n",
              "          event.preventDefault();\n",
              "          event.stopPropagation();\n",
              "          element.classList.toggle('function-repr-contents-collapsed');\n",
              "        };\n",
              "      }\n",
              "      </script>\n",
              "      </div>"
            ]
          },
          "metadata": {},
          "execution_count": 33
        }
      ]
    },
    {
      "cell_type": "code",
      "source": [
        "supply_chain_df.to_csv"
      ],
      "metadata": {
        "colab": {
          "base_uri": "https://localhost:8080/",
          "height": 291
        },
        "id": "JhPM6hiW6P_G",
        "outputId": "b38e1e5e-4fc2-4eca-fc4f-b5cc43e2c4b0"
      },
      "execution_count": 34,
      "outputs": [
        {
          "output_type": "execute_result",
          "data": {
            "text/plain": [
              "<bound method NDFrame.to_csv of            Type  Days for shipping (real)  Days for shipment (scheduled)  \\\n",
              "0      0.333333                  0.500000                            1.0   \n",
              "1      1.000000                  0.833333                            1.0   \n",
              "2      0.000000                  0.666667                            1.0   \n",
              "3      0.333333                  0.500000                            1.0   \n",
              "4      0.666667                  0.333333                            1.0   \n",
              "...         ...                       ...                            ...   \n",
              "12412  0.333333                  1.000000                            1.0   \n",
              "12413  0.333333                  0.833333                            1.0   \n",
              "12414  0.333333                  0.500000                            1.0   \n",
              "12415  0.333333                  1.000000                            1.0   \n",
              "12416  0.333333                  1.000000                            1.0   \n",
              "\n",
              "       Benefit per order  Sales per customer  Delivery Status  \\\n",
              "0               0.868601            0.207358         0.000000   \n",
              "1               0.783094            0.205136         0.333333   \n",
              "2               0.783423            0.204026         1.000000   \n",
              "3               0.851419            0.200700         0.000000   \n",
              "4               0.879395            0.196257         0.000000   \n",
              "...                  ...                 ...              ...   \n",
              "12412           0.848550            0.071736         0.333333   \n",
              "12413           0.854298            0.071736         0.333333   \n",
              "12414           0.858896            0.071736         0.000000   \n",
              "12415           0.843022            0.030016         0.333333   \n",
              "12416           0.856331            0.070855         0.333333   \n",
              "\n",
              "       Late_delivery_risk  Category Id  Category Name  Customer City  ...  \\\n",
              "0                     0.0     0.959459          0.850       0.117431  ...   \n",
              "1                     1.0     0.959459          0.850       0.117431  ...   \n",
              "2                     0.0     0.959459          0.850       0.809174  ...   \n",
              "3                     0.0     0.959459          0.850       0.508257  ...   \n",
              "4                     0.0     0.959459          0.850       0.117431  ...   \n",
              "...                   ...          ...            ...            ...  ...   \n",
              "12412                 1.0     0.216216          0.725       0.117431  ...   \n",
              "12413                 1.0     0.216216          0.725       0.117431  ...   \n",
              "12414                 0.0     0.216216          0.725       0.117431  ...   \n",
              "12415                 1.0     0.202703          0.300       0.117431  ...   \n",
              "12416                 1.0     0.216216          0.725       0.117431  ...   \n",
              "\n",
              "       Order State  Order Status  Product Card Id  Product Category Id  \\\n",
              "0         0.450563      0.333333         0.997768             0.959459   \n",
              "1         0.784731      0.666667         0.997768             0.959459   \n",
              "2         0.784731      0.111111         0.997768             0.959459   \n",
              "3         0.777222      0.333333         0.997768             0.959459   \n",
              "4         0.777222      0.777778         0.997768             0.959459   \n",
              "...            ...           ...              ...                  ...   \n",
              "12412     1.000000      0.333333         0.285714             0.216216   \n",
              "12413     0.783479      0.333333         0.285714             0.216216   \n",
              "12414     0.619524      0.333333         0.285714             0.216216   \n",
              "12415     0.548185      0.333333         0.257440             0.202703   \n",
              "12416     1.000000      0.222222         0.285714             0.216216   \n",
              "\n",
              "       Product Image  Product Name  Product Price  Product Status  \\\n",
              "0           0.632184      0.632184       0.212573             0.0   \n",
              "1           0.632184      0.632184       0.212573             0.0   \n",
              "2           0.632184      0.632184       0.212573             0.0   \n",
              "3           0.632184      0.632184       0.212573             0.0   \n",
              "4           0.632184      0.632184       0.212573             0.0   \n",
              "...              ...           ...            ...             ...   \n",
              "12412       0.436782      0.436782       0.079733             0.0   \n",
              "12413       0.436782      0.436782       0.079733             0.0   \n",
              "12414       0.436782      0.436782       0.079733             0.0   \n",
              "12415       0.563218      0.563218       0.032713             0.0   \n",
              "12416       0.563218      0.563218       0.032713             0.0   \n",
              "\n",
              "       shipping date (DateOrders)  Shipping Mode  \n",
              "0             2018-02-03 22:56:00            1.0  \n",
              "1             2018-01-18 12:27:00            1.0  \n",
              "2             2018-01-17 12:06:00            1.0  \n",
              "3             2018-01-16 11:45:00            1.0  \n",
              "4             2018-01-15 11:24:00            1.0  \n",
              "...                           ...            ...  \n",
              "12412         2016-11-18 13:14:00            1.0  \n",
              "12413         2016-12-31 16:40:00            1.0  \n",
              "12414         2016-10-20 23:04:00            1.0  \n",
              "12415         2016-09-03 20:41:00            1.0  \n",
              "12416         2015-12-10 20:43:00            1.0  \n",
              "\n",
              "[12417 rows x 49 columns]>"
            ],
            "text/html": [
              "<div style=\"max-width:800px; border: 1px solid var(--colab-border-color);\"><style>\n",
              "      pre.function-repr-contents {\n",
              "        overflow-x: auto;\n",
              "        padding: 8px 12px;\n",
              "        max-height: 500px;\n",
              "      }\n",
              "\n",
              "      pre.function-repr-contents.function-repr-contents-collapsed {\n",
              "        cursor: pointer;\n",
              "        max-height: 100px;\n",
              "      }\n",
              "    </style>\n",
              "    <pre style=\"white-space: initial; background:\n",
              "         var(--colab-secondary-surface-color); padding: 8px 12px;\n",
              "         border-bottom: 1px solid var(--colab-border-color);\"><b>pandas.core.generic.NDFrame.to_csv</b><br/>def to_csv(path_or_buf: FilePath | WriteBuffer[bytes] | WriteBuffer[str] | None=None, sep: str=&#x27;,&#x27;, na_rep: str=&#x27;&#x27;, float_format: str | Callable | None=None, columns: Sequence[Hashable] | None=None, header: bool_t | list[str]=True, index: bool_t=True, index_label: IndexLabel | None=None, mode: str=&#x27;w&#x27;, encoding: str | None=None, compression: CompressionOptions=&#x27;infer&#x27;, quoting: int | None=None, quotechar: str=&#x27;&quot;&#x27;, lineterminator: str | None=None, chunksize: int | None=None, date_format: str | None=None, doublequote: bool_t=True, escapechar: str | None=None, decimal: str=&#x27;.&#x27;, errors: str=&#x27;strict&#x27;, storage_options: StorageOptions=None) -&gt; str | None</pre><pre class=\"function-repr-contents function-repr-contents-collapsed\" style=\"\"><a class=\"filepath\" style=\"display:none\" href=\"#\">/usr/local/lib/python3.10/dist-packages/pandas/core/generic.py</a>Write object to a comma-separated values (csv) file.\n",
              "\n",
              "Parameters\n",
              "----------\n",
              "path_or_buf : str, path object, file-like object, or None, default None\n",
              "    String, path object (implementing os.PathLike[str]), or file-like\n",
              "    object implementing a write() function. If None, the result is\n",
              "    returned as a string. If a non-binary file object is passed, it should\n",
              "    be opened with `newline=&#x27;&#x27;`, disabling universal newlines. If a binary\n",
              "    file object is passed, `mode` might need to contain a `&#x27;b&#x27;`.\n",
              "\n",
              "    .. versionchanged:: 1.2.0\n",
              "\n",
              "       Support for binary file objects was introduced.\n",
              "\n",
              "sep : str, default &#x27;,&#x27;\n",
              "    String of length 1. Field delimiter for the output file.\n",
              "na_rep : str, default &#x27;&#x27;\n",
              "    Missing data representation.\n",
              "float_format : str, Callable, default None\n",
              "    Format string for floating point numbers. If a Callable is given, it takes\n",
              "    precedence over other numeric formatting parameters, like decimal.\n",
              "columns : sequence, optional\n",
              "    Columns to write.\n",
              "header : bool or list of str, default True\n",
              "    Write out the column names. If a list of strings is given it is\n",
              "    assumed to be aliases for the column names.\n",
              "index : bool, default True\n",
              "    Write row names (index).\n",
              "index_label : str or sequence, or False, default None\n",
              "    Column label for index column(s) if desired. If None is given, and\n",
              "    `header` and `index` are True, then the index names are used. A\n",
              "    sequence should be given if the object uses MultiIndex. If\n",
              "    False do not print fields for index names. Use index_label=False\n",
              "    for easier importing in R.\n",
              "mode : str, default &#x27;w&#x27;\n",
              "    Python write mode. The available write modes are the same as\n",
              "    :py:func:`open`.\n",
              "encoding : str, optional\n",
              "    A string representing the encoding to use in the output file,\n",
              "    defaults to &#x27;utf-8&#x27;. `encoding` is not supported if `path_or_buf`\n",
              "    is a non-binary file object.\n",
              "compression : str or dict, default &#x27;infer&#x27;\n",
              "    For on-the-fly compression of the output data. If &#x27;infer&#x27; and &#x27;path_or_buf&#x27; is\n",
              "    path-like, then detect compression from the following extensions: &#x27;.gz&#x27;,\n",
              "    &#x27;.bz2&#x27;, &#x27;.zip&#x27;, &#x27;.xz&#x27;, &#x27;.zst&#x27;, &#x27;.tar&#x27;, &#x27;.tar.gz&#x27;, &#x27;.tar.xz&#x27; or &#x27;.tar.bz2&#x27;\n",
              "    (otherwise no compression).\n",
              "    Set to ``None`` for no compression.\n",
              "    Can also be a dict with key ``&#x27;method&#x27;`` set\n",
              "    to one of {``&#x27;zip&#x27;``, ``&#x27;gzip&#x27;``, ``&#x27;bz2&#x27;``, ``&#x27;zstd&#x27;``, ``&#x27;tar&#x27;``} and other\n",
              "    key-value pairs are forwarded to\n",
              "    ``zipfile.ZipFile``, ``gzip.GzipFile``,\n",
              "    ``bz2.BZ2File``, ``zstandard.ZstdCompressor`` or\n",
              "    ``tarfile.TarFile``, respectively.\n",
              "    As an example, the following could be passed for faster compression and to create\n",
              "    a reproducible gzip archive:\n",
              "    ``compression={&#x27;method&#x27;: &#x27;gzip&#x27;, &#x27;compresslevel&#x27;: 1, &#x27;mtime&#x27;: 1}``.\n",
              "\n",
              "    .. versionadded:: 1.5.0\n",
              "        Added support for `.tar` files.\n",
              "\n",
              "    .. versionchanged:: 1.0.0\n",
              "\n",
              "       May now be a dict with key &#x27;method&#x27; as compression mode\n",
              "       and other entries as additional compression options if\n",
              "       compression mode is &#x27;zip&#x27;.\n",
              "\n",
              "    .. versionchanged:: 1.1.0\n",
              "\n",
              "       Passing compression options as keys in dict is\n",
              "       supported for compression modes &#x27;gzip&#x27;, &#x27;bz2&#x27;, &#x27;zstd&#x27;, and &#x27;zip&#x27;.\n",
              "\n",
              "    .. versionchanged:: 1.2.0\n",
              "\n",
              "        Compression is supported for binary file objects.\n",
              "\n",
              "    .. versionchanged:: 1.2.0\n",
              "\n",
              "        Previous versions forwarded dict entries for &#x27;gzip&#x27; to\n",
              "        `gzip.open` instead of `gzip.GzipFile` which prevented\n",
              "        setting `mtime`.\n",
              "\n",
              "quoting : optional constant from csv module\n",
              "    Defaults to csv.QUOTE_MINIMAL. If you have set a `float_format`\n",
              "    then floats are converted to strings and thus csv.QUOTE_NONNUMERIC\n",
              "    will treat them as non-numeric.\n",
              "quotechar : str, default &#x27;\\&quot;&#x27;\n",
              "    String of length 1. Character used to quote fields.\n",
              "lineterminator : str, optional\n",
              "    The newline character or character sequence to use in the output\n",
              "    file. Defaults to `os.linesep`, which depends on the OS in which\n",
              "    this method is called (&#x27;\\\\n&#x27; for linux, &#x27;\\\\r\\\\n&#x27; for Windows, i.e.).\n",
              "\n",
              "    .. versionchanged:: 1.5.0\n",
              "\n",
              "        Previously was line_terminator, changed for consistency with\n",
              "        read_csv and the standard library &#x27;csv&#x27; module.\n",
              "\n",
              "chunksize : int or None\n",
              "    Rows to write at a time.\n",
              "date_format : str, default None\n",
              "    Format string for datetime objects.\n",
              "doublequote : bool, default True\n",
              "    Control quoting of `quotechar` inside a field.\n",
              "escapechar : str, default None\n",
              "    String of length 1. Character used to escape `sep` and `quotechar`\n",
              "    when appropriate.\n",
              "decimal : str, default &#x27;.&#x27;\n",
              "    Character recognized as decimal separator. E.g. use &#x27;,&#x27; for\n",
              "    European data.\n",
              "errors : str, default &#x27;strict&#x27;\n",
              "    Specifies how encoding and decoding errors are to be handled.\n",
              "    See the errors argument for :func:`open` for a full list\n",
              "    of options.\n",
              "\n",
              "    .. versionadded:: 1.1.0\n",
              "\n",
              "storage_options : dict, optional\n",
              "    Extra options that make sense for a particular storage connection, e.g.\n",
              "    host, port, username, password, etc. For HTTP(S) URLs the key-value pairs\n",
              "    are forwarded to ``urllib.request.Request`` as header options. For other\n",
              "    URLs (e.g. starting with &quot;s3://&quot;, and &quot;gcs://&quot;) the key-value pairs are\n",
              "    forwarded to ``fsspec.open``. Please see ``fsspec`` and ``urllib`` for more\n",
              "    details, and for more examples on storage options refer `here\n",
              "    &lt;https://pandas.pydata.org/docs/user_guide/io.html?\n",
              "    highlight=storage_options#reading-writing-remote-files&gt;`_.\n",
              "\n",
              "    .. versionadded:: 1.2.0\n",
              "\n",
              "Returns\n",
              "-------\n",
              "None or str\n",
              "    If path_or_buf is None, returns the resulting csv format as a\n",
              "    string. Otherwise returns None.\n",
              "\n",
              "See Also\n",
              "--------\n",
              "read_csv : Load a CSV file into a DataFrame.\n",
              "to_excel : Write DataFrame to an Excel file.\n",
              "\n",
              "Examples\n",
              "--------\n",
              "&gt;&gt;&gt; df = pd.DataFrame({&#x27;name&#x27;: [&#x27;Raphael&#x27;, &#x27;Donatello&#x27;],\n",
              "...                    &#x27;mask&#x27;: [&#x27;red&#x27;, &#x27;purple&#x27;],\n",
              "...                    &#x27;weapon&#x27;: [&#x27;sai&#x27;, &#x27;bo staff&#x27;]})\n",
              "&gt;&gt;&gt; df.to_csv(index=False)\n",
              "&#x27;name,mask,weapon\\nRaphael,red,sai\\nDonatello,purple,bo staff\\n&#x27;\n",
              "\n",
              "Create &#x27;out.zip&#x27; containing &#x27;out.csv&#x27;\n",
              "\n",
              "&gt;&gt;&gt; compression_opts = dict(method=&#x27;zip&#x27;,\n",
              "...                         archive_name=&#x27;out.csv&#x27;)  # doctest: +SKIP\n",
              "&gt;&gt;&gt; df.to_csv(&#x27;out.zip&#x27;, index=False,\n",
              "...           compression=compression_opts)  # doctest: +SKIP\n",
              "\n",
              "To write a csv file to a new folder or nested folder you will first\n",
              "need to create it using either Pathlib or os:\n",
              "\n",
              "&gt;&gt;&gt; from pathlib import Path  # doctest: +SKIP\n",
              "&gt;&gt;&gt; filepath = Path(&#x27;folder/subfolder/out.csv&#x27;)  # doctest: +SKIP\n",
              "&gt;&gt;&gt; filepath.parent.mkdir(parents=True, exist_ok=True)  # doctest: +SKIP\n",
              "&gt;&gt;&gt; df.to_csv(filepath)  # doctest: +SKIP\n",
              "\n",
              "&gt;&gt;&gt; import os  # doctest: +SKIP\n",
              "&gt;&gt;&gt; os.makedirs(&#x27;folder/subfolder&#x27;, exist_ok=True)  # doctest: +SKIP\n",
              "&gt;&gt;&gt; df.to_csv(&#x27;folder/subfolder/out.csv&#x27;)  # doctest: +SKIP</pre>\n",
              "      <script>\n",
              "      if (google.colab.kernel.accessAllowed && google.colab.files && google.colab.files.view) {\n",
              "        for (const element of document.querySelectorAll('.filepath')) {\n",
              "          element.style.display = 'block'\n",
              "          element.onclick = (event) => {\n",
              "            event.preventDefault();\n",
              "            event.stopPropagation();\n",
              "            google.colab.files.view(element.textContent, 3589);\n",
              "          };\n",
              "        }\n",
              "      }\n",
              "      for (const element of document.querySelectorAll('.function-repr-contents')) {\n",
              "        element.onclick = (event) => {\n",
              "          event.preventDefault();\n",
              "          event.stopPropagation();\n",
              "          element.classList.toggle('function-repr-contents-collapsed');\n",
              "        };\n",
              "      }\n",
              "      </script>\n",
              "      </div>"
            ]
          },
          "metadata": {},
          "execution_count": 34
        }
      ]
    },
    {
      "cell_type": "code",
      "source": [
        "print(supply_chain_df.info())"
      ],
      "metadata": {
        "colab": {
          "base_uri": "https://localhost:8080/"
        },
        "id": "w0oWJV8L6lby",
        "outputId": "95d82eb8-7e20-45bf-8cd6-b32bf27e3fab"
      },
      "execution_count": 35,
      "outputs": [
        {
          "output_type": "stream",
          "name": "stdout",
          "text": [
            "<class 'pandas.core.frame.DataFrame'>\n",
            "RangeIndex: 12417 entries, 0 to 12416\n",
            "Data columns (total 49 columns):\n",
            " #   Column                         Non-Null Count  Dtype         \n",
            "---  ------                         --------------  -----         \n",
            " 0   Type                           12417 non-null  float64       \n",
            " 1   Days for shipping (real)       12417 non-null  float64       \n",
            " 2   Days for shipment (scheduled)  12417 non-null  float64       \n",
            " 3   Benefit per order              12417 non-null  float64       \n",
            " 4   Sales per customer             12417 non-null  float64       \n",
            " 5   Delivery Status                12417 non-null  float64       \n",
            " 6   Late_delivery_risk             12417 non-null  float64       \n",
            " 7   Category Id                    12417 non-null  float64       \n",
            " 8   Category Name                  12417 non-null  float64       \n",
            " 9   Customer City                  12417 non-null  float64       \n",
            " 10  Customer Country               12417 non-null  float64       \n",
            " 11  Customer Fname                 12417 non-null  float64       \n",
            " 12  Customer Id                    12417 non-null  float64       \n",
            " 13  Customer Lname                 12417 non-null  float64       \n",
            " 14  Customer Segment               12417 non-null  float64       \n",
            " 15  Customer State                 12417 non-null  float64       \n",
            " 16  Customer Street                12417 non-null  float64       \n",
            " 17  Customer Zipcode               12417 non-null  float64       \n",
            " 18  Department Id                  12417 non-null  float64       \n",
            " 19  Department Name                12417 non-null  float64       \n",
            " 20  Latitude                       12417 non-null  float64       \n",
            " 21  Longitude                      12417 non-null  float64       \n",
            " 22  Market                         12417 non-null  float64       \n",
            " 23  Order City                     12417 non-null  float64       \n",
            " 24  Order Country                  12417 non-null  float64       \n",
            " 25  Order Customer Id              12417 non-null  float64       \n",
            " 26  order date (DateOrders)        12417 non-null  datetime64[ns]\n",
            " 27  Order Id                       12417 non-null  float64       \n",
            " 28  Order Item Cardprod Id         12417 non-null  float64       \n",
            " 29  Order Item Discount            12417 non-null  float64       \n",
            " 30  Order Item Discount Rate       12417 non-null  float64       \n",
            " 31  Order Item Id                  12417 non-null  float64       \n",
            " 32  Order Item Product Price       12417 non-null  float64       \n",
            " 33  Order Item Profit Ratio        12417 non-null  float64       \n",
            " 34  Order Item Quantity            12417 non-null  float64       \n",
            " 35  Sales                          12417 non-null  float64       \n",
            " 36  Order Item Total               12417 non-null  float64       \n",
            " 37  Order Profit Per Order         12417 non-null  float64       \n",
            " 38  Order Region                   12417 non-null  float64       \n",
            " 39  Order State                    12417 non-null  float64       \n",
            " 40  Order Status                   12417 non-null  float64       \n",
            " 41  Product Card Id                12417 non-null  float64       \n",
            " 42  Product Category Id            12417 non-null  float64       \n",
            " 43  Product Image                  12417 non-null  float64       \n",
            " 44  Product Name                   12417 non-null  float64       \n",
            " 45  Product Price                  12417 non-null  float64       \n",
            " 46  Product Status                 12417 non-null  float64       \n",
            " 47  shipping date (DateOrders)     12417 non-null  datetime64[ns]\n",
            " 48  Shipping Mode                  12417 non-null  float64       \n",
            "dtypes: datetime64[ns](2), float64(47)\n",
            "memory usage: 4.6 MB\n",
            "None\n"
          ]
        }
      ]
    },
    {
      "cell_type": "code",
      "source": [
        "supply_chain_df['order date (DateOrders)'] = pd.to_datetime(supply_chain_df['order date (DateOrders)'], errors='coerce')\n",
        "supply_chain_df['shipping date (DateOrders)'] = pd.to_datetime(supply_chain_df['shipping date (DateOrders)'], errors='coerce')\n"
      ],
      "metadata": {
        "id": "2bN9a8CD6lfF"
      },
      "execution_count": 38,
      "outputs": []
    },
    {
      "cell_type": "code",
      "source": [
        "supply_chain_df.fillna({'Product Description': 'Unknown'}, inplace=True)"
      ],
      "metadata": {
        "id": "iq0r7Ag86lk6"
      },
      "execution_count": 39,
      "outputs": []
    },
    {
      "cell_type": "code",
      "source": [
        "print(credit_df.info())"
      ],
      "metadata": {
        "colab": {
          "base_uri": "https://localhost:8080/"
        },
        "id": "fU2cTkxa6lo3",
        "outputId": "324d072e-82ac-43f4-e38a-7ff2c171be86"
      },
      "execution_count": 40,
      "outputs": [
        {
          "output_type": "stream",
          "name": "stdout",
          "text": [
            "<class 'pandas.core.frame.DataFrame'>\n",
            "RangeIndex: 1000 entries, 0 to 999\n",
            "Data columns (total 21 columns):\n",
            " #   Column                                                    Non-Null Count  Dtype  \n",
            "---  ------                                                    --------------  -----  \n",
            " 0   id                                                        1000 non-null   float64\n",
            " 1   Duration in months                                        1000 non-null   float64\n",
            " 2   Credit history                                            1000 non-null   float64\n",
            " 3   Purpose of the credit                                     1000 non-null   float64\n",
            " 4   Credit amount                                             1000 non-null   float64\n",
            " 5   Status of savings account/bonds                           1000 non-null   float64\n",
            " 6   Present employment(years)                                 1000 non-null   float64\n",
            " 7   Installment rate in percentage of disposable income       1000 non-null   float64\n",
            " 8   personal_status                                           1000 non-null   float64\n",
            " 9   Other debtors / guarantors                                1000 non-null   float64\n",
            " 10  Present residence since X years                           1000 non-null   float64\n",
            " 11  Property                                                  1000 non-null   float64\n",
            " 12  Age in years                                              1000 non-null   float64\n",
            " 13  Other installment plans (banks/stores)                    1000 non-null   float64\n",
            " 14  Housing                                                   1000 non-null   float64\n",
            " 15  Number of existing credits at this bank                   1000 non-null   float64\n",
            " 16  Job                                                       1000 non-null   float64\n",
            " 17  Number of people being liable to provide maintenance for  1000 non-null   float64\n",
            " 18  Telephone                                                 1000 non-null   float64\n",
            " 19  Foreign worker                                            1000 non-null   float64\n",
            " 20  Status of existing checking account                       1000 non-null   float64\n",
            "dtypes: float64(21)\n",
            "memory usage: 164.2 KB\n",
            "None\n"
          ]
        }
      ]
    },
    {
      "cell_type": "code",
      "source": [
        "credit_df['Credit history'] = credit_df['Credit history'].astype('category')\n",
        "credit_df['Purpose of the credit'] = credit_df['Purpose of the credit'].astype('category')\n",
        "credit_df['Status of savings account/bonds'] = credit_df['Status of savings account/bonds'].astype('category')\n"
      ],
      "metadata": {
        "id": "Q-Qu6k6c6lsH"
      },
      "execution_count": 41,
      "outputs": []
    },
    {
      "cell_type": "code",
      "source": [
        "# Temporarily convert categorical columns to string\n",
        "if 'Status of savings account/bonds' in credit_df.columns:\n",
        "    if credit_df['Status of savings account/bonds'].dtype.name == 'category':\n",
        "        credit_df['Status of savings account/bonds'] = credit_df['Status of savings account/bonds'].astype(str)\n",
        "        credit_df['Status of savings account/bonds'].fillna('Unknown', inplace=True)\n",
        "        # Convert back to categorical if needed\n",
        "        credit_df['Status of savings account/bonds'] = credit_df['Status of savings account/bonds'].astype('category')\n",
        "\n",
        "print(\"Data transformation complete.\")\n"
      ],
      "metadata": {
        "colab": {
          "base_uri": "https://localhost:8080/"
        },
        "id": "nioumvju7L8u",
        "outputId": "9b697839-6e3d-4bc5-9020-c6aaabc388d3"
      },
      "execution_count": 44,
      "outputs": [
        {
          "output_type": "stream",
          "name": "stdout",
          "text": [
            "Data transformation complete.\n"
          ]
        }
      ]
    },
    {
      "cell_type": "code",
      "source": [
        "unified_df = pd.concat([supply_chain_df, credit_df], axis=0, ignore_index=True)"
      ],
      "metadata": {
        "id": "EQFiu8zQ7MAE"
      },
      "execution_count": 45,
      "outputs": []
    },
    {
      "cell_type": "code",
      "source": [
        "unified_df.drop_duplicates(inplace=True)"
      ],
      "metadata": {
        "id": "yD-b8cRY7MD6"
      },
      "execution_count": 46,
      "outputs": []
    },
    {
      "cell_type": "code",
      "source": [
        "unified_df.reset_index(drop=True, inplace=True)"
      ],
      "metadata": {
        "id": "bcJh90ir7MHS"
      },
      "execution_count": 47,
      "outputs": []
    },
    {
      "cell_type": "code",
      "source": [
        "print(\"Data loaded and integrated successfully.\")\n",
        "print(unified_df.head())"
      ],
      "metadata": {
        "colab": {
          "base_uri": "https://localhost:8080/"
        },
        "id": "t4tGNy9Z7MK6",
        "outputId": "16bdcbc0-993a-4c48-ad54-66b1ebee2fa0"
      },
      "execution_count": 48,
      "outputs": [
        {
          "output_type": "stream",
          "name": "stdout",
          "text": [
            "Data loaded and integrated successfully.\n",
            "       Type  Days for shipping (real)  Days for shipment (scheduled)  \\\n",
            "0  0.333333                  0.500000                            1.0   \n",
            "1  1.000000                  0.833333                            1.0   \n",
            "2  0.000000                  0.666667                            1.0   \n",
            "3  0.333333                  0.500000                            1.0   \n",
            "4  0.666667                  0.333333                            1.0   \n",
            "\n",
            "   Benefit per order  Sales per customer  Delivery Status  Late_delivery_risk  \\\n",
            "0           0.868601            0.207358         0.000000                 0.0   \n",
            "1           0.783094            0.205136         0.333333                 1.0   \n",
            "2           0.783423            0.204026         1.000000                 0.0   \n",
            "3           0.851419            0.200700         0.000000                 0.0   \n",
            "4           0.879395            0.196257         0.000000                 0.0   \n",
            "\n",
            "   Category Id  Category Name  Customer City  ...  Property  Age in years  \\\n",
            "0     0.959459           0.85       0.117431  ...       NaN           NaN   \n",
            "1     0.959459           0.85       0.117431  ...       NaN           NaN   \n",
            "2     0.959459           0.85       0.809174  ...       NaN           NaN   \n",
            "3     0.959459           0.85       0.508257  ...       NaN           NaN   \n",
            "4     0.959459           0.85       0.117431  ...       NaN           NaN   \n",
            "\n",
            "   Other installment plans (banks/stores)  Housing  \\\n",
            "0                                     NaN      NaN   \n",
            "1                                     NaN      NaN   \n",
            "2                                     NaN      NaN   \n",
            "3                                     NaN      NaN   \n",
            "4                                     NaN      NaN   \n",
            "\n",
            "   Number of existing credits at this bank  Job  \\\n",
            "0                                      NaN  NaN   \n",
            "1                                      NaN  NaN   \n",
            "2                                      NaN  NaN   \n",
            "3                                      NaN  NaN   \n",
            "4                                      NaN  NaN   \n",
            "\n",
            "   Number of people being liable to provide maintenance for  Telephone  \\\n",
            "0                                                NaN               NaN   \n",
            "1                                                NaN               NaN   \n",
            "2                                                NaN               NaN   \n",
            "3                                                NaN               NaN   \n",
            "4                                                NaN               NaN   \n",
            "\n",
            "   Foreign worker  Status of existing checking account  \n",
            "0             NaN                                  NaN  \n",
            "1             NaN                                  NaN  \n",
            "2             NaN                                  NaN  \n",
            "3             NaN                                  NaN  \n",
            "4             NaN                                  NaN  \n",
            "\n",
            "[5 rows x 70 columns]\n"
          ]
        }
      ]
    },
    {
      "cell_type": "code",
      "source": [
        "!pip install pyspark"
      ],
      "metadata": {
        "colab": {
          "base_uri": "https://localhost:8080/"
        },
        "id": "Aig5MH9z8CRg",
        "outputId": "06fff3cf-a437-47af-9d4a-afcacca50ce6"
      },
      "execution_count": 50,
      "outputs": [
        {
          "output_type": "stream",
          "name": "stdout",
          "text": [
            "Collecting pyspark\n",
            "  Downloading pyspark-3.5.1.tar.gz (317.0 MB)\n",
            "\u001b[2K     \u001b[90m━━━━━━━━━━━━━━━━━━━━━━━━━━━━━━━━━━━━━━━━\u001b[0m \u001b[32m317.0/317.0 MB\u001b[0m \u001b[31m2.0 MB/s\u001b[0m eta \u001b[36m0:00:00\u001b[0m\n",
            "\u001b[?25h  Preparing metadata (setup.py) ... \u001b[?25l\u001b[?25hdone\n",
            "Requirement already satisfied: py4j==0.10.9.7 in /usr/local/lib/python3.10/dist-packages (from pyspark) (0.10.9.7)\n",
            "Building wheels for collected packages: pyspark\n",
            "  Building wheel for pyspark (setup.py) ... \u001b[?25l\u001b[?25hdone\n",
            "  Created wheel for pyspark: filename=pyspark-3.5.1-py2.py3-none-any.whl size=317488491 sha256=1f0cf050bd2de5f3a2f734d15d2df2cf4f10738be6761ef2ffcad77edd82d3cc\n",
            "  Stored in directory: /root/.cache/pip/wheels/80/1d/60/2c256ed38dddce2fdd93be545214a63e02fbd8d74fb0b7f3a6\n",
            "Successfully built pyspark\n",
            "Installing collected packages: pyspark\n",
            "Successfully installed pyspark-3.5.1\n"
          ]
        }
      ]
    },
    {
      "cell_type": "code",
      "source": [
        "from pyspark.sql import SparkSession\n",
        "from pyspark.sql.functions import col\n"
      ],
      "metadata": {
        "id": "brSFjoeY7MOd"
      },
      "execution_count": 54,
      "outputs": []
    },
    {
      "cell_type": "code",
      "source": [
        "spark = SparkSession.builder \\\n",
        "    .appName(\"Data Ingestion Pipeline for Supply Chain Data\") \\\n",
        "    .config(\"spark.hadoop.fs.defaultFS\", \"hdfs://namenode:9000\") \\\n",
        "    .getOrCreate()"
      ],
      "metadata": {
        "id": "KDQQM8tA8giV"
      },
      "execution_count": 57,
      "outputs": []
    },
    {
      "cell_type": "code",
      "source": [
        "source_path = \"path/to/DataCoSupplyChainDataset.csv\""
      ],
      "metadata": {
        "id": "Akfc6JY37MSX"
      },
      "execution_count": 59,
      "outputs": []
    },
    {
      "cell_type": "code",
      "source": [
        "# Replace 'namenode' with the actual hostname or IP address of your Hadoop NameNode\n",
        "spark = SparkSession.builder \\\n",
        "    .appName(\"Data Ingestion Pipeline for Supply Chain Data\") \\\n",
        "    .config(\"spark.hadoop.fs.defaultFS\", \"hdfs://<namenode-IP>:9000\") \\\n",
        "    .getOrCreate()\n"
      ],
      "metadata": {
        "id": "NVoMQrNW6lvc"
      },
      "execution_count": 61,
      "outputs": []
    },
    {
      "cell_type": "code",
      "source": [
        "source_path = \"path/to/DataCoSupplyChainDataset.csv\""
      ],
      "metadata": {
        "id": "dxnaSKvQ80RD"
      },
      "execution_count": 62,
      "outputs": []
    },
    {
      "cell_type": "code",
      "source": [
        "spark = SparkSession.builder \\\n",
        "    .appName(\"Data Ingestion Pipeline for Supply Chain Data\") \\\n",
        "    .getOrCreate()"
      ],
      "metadata": {
        "id": "x660f8TX80UW"
      },
      "execution_count": 63,
      "outputs": []
    },
    {
      "cell_type": "code",
      "source": [
        "supply_chain_df = supply_chain_df.fillna({\n",
        "    \"Order ID\": \"Unknown\",\n",
        "    \"Order Date\": \"Unknown\",\n",
        "    \"Order Status\": \"Unknown\"\n",
        "})\n"
      ],
      "metadata": {
        "id": "X1F-cuQp80ZB"
      },
      "execution_count": 66,
      "outputs": []
    },
    {
      "cell_type": "code",
      "source": [
        "local_path = \"path/to/processed_supply_chain_data\"\n",
        "\n",
        "\n",
        "print(\"Data ingestion pipeline completed successfully.\")\n",
        "\n",
        "# Stop Spark session\n",
        "spark.stop()"
      ],
      "metadata": {
        "colab": {
          "base_uri": "https://localhost:8080/"
        },
        "id": "QAjhNi_F8cGZ",
        "outputId": "e7d843a2-c8f1-4953-d509-17bd84a96fdc"
      },
      "execution_count": 69,
      "outputs": [
        {
          "output_type": "stream",
          "name": "stdout",
          "text": [
            "Data ingestion pipeline completed successfully.\n"
          ]
        }
      ]
    },
    {
      "cell_type": "code",
      "source": [
        "pip install pymongo\n"
      ],
      "metadata": {
        "colab": {
          "base_uri": "https://localhost:8080/"
        },
        "id": "EKEpwzJu9r64",
        "outputId": "d163ba63-e993-4158-db33-aa241095eaa5"
      },
      "execution_count": 70,
      "outputs": [
        {
          "output_type": "stream",
          "name": "stdout",
          "text": [
            "Collecting pymongo\n",
            "  Downloading pymongo-4.8.0-cp310-cp310-manylinux_2_17_x86_64.manylinux2014_x86_64.whl (1.2 MB)\n",
            "\u001b[2K     \u001b[90m━━━━━━━━━━━━━━━━━━━━━━━━━━━━━━━━━━━━━━━━\u001b[0m \u001b[32m1.2/1.2 MB\u001b[0m \u001b[31m15.4 MB/s\u001b[0m eta \u001b[36m0:00:00\u001b[0m\n",
            "\u001b[?25hCollecting dnspython<3.0.0,>=1.16.0 (from pymongo)\n",
            "  Downloading dnspython-2.6.1-py3-none-any.whl (307 kB)\n",
            "\u001b[2K     \u001b[90m━━━━━━━━━━━━━━━━━━━━━━━━━━━━━━━━━━━━━━━━\u001b[0m \u001b[32m307.7/307.7 kB\u001b[0m \u001b[31m25.8 MB/s\u001b[0m eta \u001b[36m0:00:00\u001b[0m\n",
            "\u001b[?25hInstalling collected packages: dnspython, pymongo\n",
            "Successfully installed dnspython-2.6.1 pymongo-4.8.0\n"
          ]
        }
      ]
    },
    {
      "cell_type": "code",
      "source": [
        "from pymongo import MongoClient"
      ],
      "metadata": {
        "id": "uClpBEpr9r-t"
      },
      "execution_count": 71,
      "outputs": []
    },
    {
      "cell_type": "code",
      "source": [
        "client = MongoClient('mongodb://localhost:27017/')"
      ],
      "metadata": {
        "id": "7_iRj_FV9sC5"
      },
      "execution_count": 72,
      "outputs": []
    },
    {
      "cell_type": "code",
      "source": [
        "db = client['supply_chain_db']"
      ],
      "metadata": {
        "id": "0xkwSIVg9sGf"
      },
      "execution_count": 73,
      "outputs": []
    },
    {
      "cell_type": "code",
      "source": [
        "collection = db['supply_chain_data']"
      ],
      "metadata": {
        "id": "P9kSLzmP9sJt"
      },
      "execution_count": 74,
      "outputs": []
    },
    {
      "cell_type": "code",
      "source": [
        "data = [\n",
        "    {\"OrderID\": \"1001\", \"OrderDate\": \"2024-07-01\", \"OrderStatus\": \"Shipped\", \"Amount\": 150.0},\n",
        "    {\"OrderID\": \"1002\", \"OrderDate\": \"2024-07-02\", \"OrderStatus\": \"Pending\", \"Amount\": 200.0},\n",
        "    {\"OrderID\": \"1003\", \"OrderDate\": \"2024-07-03\", \"OrderStatus\": \"Delivered\", \"Amount\": 250.0}\n",
        "]"
      ],
      "metadata": {
        "id": "csP1VSTm9sNi"
      },
      "execution_count": 75,
      "outputs": []
    },
    {
      "cell_type": "code",
      "source": [
        "def query_data():\n",
        "    # Find all documents\n",
        "    results = collection.find()\n",
        "    for result in results:\n",
        "        print(result)\n"
      ],
      "metadata": {
        "id": "0uthW9gz96Bv"
      },
      "execution_count": 77,
      "outputs": []
    },
    {
      "cell_type": "code",
      "source": [
        "def query_by_status(status):\n",
        "    # Find documents by status\n",
        "    results = collection.find({\"OrderStatus\": status})\n",
        "    for result in results:\n",
        "        print(result)"
      ],
      "metadata": {
        "id": "RJOkLQY-96GM"
      },
      "execution_count": 78,
      "outputs": []
    },
    {
      "cell_type": "code",
      "source": [
        "print(\"All data:\")\n",
        "query_data()\n",
        "\n",
        "# Query by status\n",
        "print(\"\\nOrders with status 'Shipped':\")\n",
        "query_by_status('Shipped')\n",
        "\n",
        "# Close the MongoDB connection\n",
        "client.close()"
      ],
      "metadata": {
        "colab": {
          "base_uri": "https://localhost:8080/"
        },
        "id": "3IcJdBay96KF",
        "outputId": "34808e02-c087-468a-b098-f088c7223438"
      },
      "execution_count": 82,
      "outputs": [
        {
          "output_type": "stream",
          "name": "stdout",
          "text": [
            "All data:\n",
            "  order_id     status      product\n",
            "0      001    Shipped       Widget\n",
            "1      002    Pending       Gadget\n",
            "2      003    Shipped       Doodad\n",
            "3      004  Cancelled  Thingamajig\n",
            "\n",
            "Orders with status 'Shipped':\n",
            "  order_id   status product\n",
            "0      001  Shipped  Widget\n",
            "2      003  Shipped  Doodad\n"
          ]
        }
      ]
    },
    {
      "cell_type": "code",
      "source": [
        "pip install tweepy\n"
      ],
      "metadata": {
        "colab": {
          "base_uri": "https://localhost:8080/"
        },
        "id": "xP_w74q-IHNg",
        "outputId": "a29d30f3-e464-4450-e962-4f55e0e8bccd"
      },
      "execution_count": 83,
      "outputs": [
        {
          "output_type": "stream",
          "name": "stdout",
          "text": [
            "Requirement already satisfied: tweepy in /usr/local/lib/python3.10/dist-packages (4.14.0)\n",
            "Requirement already satisfied: oauthlib<4,>=3.2.0 in /usr/local/lib/python3.10/dist-packages (from tweepy) (3.2.2)\n",
            "Requirement already satisfied: requests<3,>=2.27.0 in /usr/local/lib/python3.10/dist-packages (from tweepy) (2.31.0)\n",
            "Requirement already satisfied: requests-oauthlib<2,>=1.2.0 in /usr/local/lib/python3.10/dist-packages (from tweepy) (1.3.1)\n",
            "Requirement already satisfied: charset-normalizer<4,>=2 in /usr/local/lib/python3.10/dist-packages (from requests<3,>=2.27.0->tweepy) (3.3.2)\n",
            "Requirement already satisfied: idna<4,>=2.5 in /usr/local/lib/python3.10/dist-packages (from requests<3,>=2.27.0->tweepy) (3.7)\n",
            "Requirement already satisfied: urllib3<3,>=1.21.1 in /usr/local/lib/python3.10/dist-packages (from requests<3,>=2.27.0->tweepy) (2.0.7)\n",
            "Requirement already satisfied: certifi>=2017.4.17 in /usr/local/lib/python3.10/dist-packages (from requests<3,>=2.27.0->tweepy) (2024.7.4)\n"
          ]
        }
      ]
    },
    {
      "cell_type": "code",
      "source": [
        "import tweepy"
      ],
      "metadata": {
        "id": "j03K_2LTIHUg"
      },
      "execution_count": 84,
      "outputs": []
    },
    {
      "cell_type": "code",
      "source": [
        "consumer_key = 'your_consumer_key'\n",
        "consumer_secret = 'your_consumer_secret'\n",
        "access_token = 'your_access_token'\n",
        "access_token_secret = 'your_access_token_secret'\n"
      ],
      "metadata": {
        "id": "oBRDd3vJIHZZ"
      },
      "execution_count": 85,
      "outputs": []
    },
    {
      "cell_type": "code",
      "source": [
        "auth = tweepy.OAuthHandler(consumer_key, consumer_secret)\n",
        "auth.set_access_token(access_token, access_token_secret)"
      ],
      "metadata": {
        "id": "Vz8YYFjfIHdY"
      },
      "execution_count": 86,
      "outputs": []
    },
    {
      "cell_type": "code",
      "source": [
        "api = tweepy.API(auth)"
      ],
      "metadata": {
        "id": "kuRDF10cIQgy"
      },
      "execution_count": 87,
      "outputs": []
    },
    {
      "cell_type": "code",
      "source": [
        "from pyspark.sql import SparkSession\n",
        "from pyspark.sql.functions import col\n",
        "from pyspark.streaming import StreamingContext\n"
      ],
      "metadata": {
        "id": "VgSSMMALIQqA"
      },
      "execution_count": 92,
      "outputs": []
    },
    {
      "cell_type": "code",
      "source": [
        "spark = SparkSession.builder \\\n",
        "    .appName(\"SocialMediaClustering\") \\\n",
        "    .getOrCreate()"
      ],
      "metadata": {
        "id": "ahky57DsIQvd"
      },
      "execution_count": 93,
      "outputs": []
    },
    {
      "cell_type": "code",
      "source": [
        "ssc = StreamingContext(spark.sparkContext, 10)"
      ],
      "metadata": {
        "colab": {
          "base_uri": "https://localhost:8080/"
        },
        "id": "MS1WhanoIQ1q",
        "outputId": "4dad044c-a9cc-4b79-b5b2-69dcbfc5b419"
      },
      "execution_count": 94,
      "outputs": [
        {
          "output_type": "stream",
          "name": "stderr",
          "text": [
            "/usr/local/lib/python3.10/dist-packages/pyspark/streaming/context.py:72: FutureWarning: DStream is deprecated as of Spark 3.4.0. Migrate to Structured Streaming.\n",
            "  warnings.warn(\n"
          ]
        }
      ]
    },
    {
      "cell_type": "code",
      "source": [
        "pip install pyspark confluent-kafka\n"
      ],
      "metadata": {
        "colab": {
          "base_uri": "https://localhost:8080/"
        },
        "id": "a2lccfUNIv7G",
        "outputId": "0bca1af9-b46c-40cb-efa2-d48a8d5bb0d8"
      },
      "execution_count": 97,
      "outputs": [
        {
          "output_type": "stream",
          "name": "stdout",
          "text": [
            "Requirement already satisfied: pyspark in /usr/local/lib/python3.10/dist-packages (3.5.1)\n",
            "Collecting confluent-kafka\n",
            "  Downloading confluent_kafka-2.5.0-cp310-cp310-manylinux_2_28_x86_64.whl (3.9 MB)\n",
            "\u001b[2K     \u001b[90m━━━━━━━━━━━━━━━━━━━━━━━━━━━━━━━━━━━━━━━━\u001b[0m \u001b[32m3.9/3.9 MB\u001b[0m \u001b[31m24.8 MB/s\u001b[0m eta \u001b[36m0:00:00\u001b[0m\n",
            "\u001b[?25hRequirement already satisfied: py4j==0.10.9.7 in /usr/local/lib/python3.10/dist-packages (from pyspark) (0.10.9.7)\n",
            "Installing collected packages: confluent-kafka\n",
            "Successfully installed confluent-kafka-2.5.0\n"
          ]
        }
      ]
    },
    {
      "cell_type": "code",
      "source": [
        "\n",
        "spark.stop()"
      ],
      "metadata": {
        "id": "Jqcrp1Z9IQ6-"
      },
      "execution_count": 104,
      "outputs": []
    },
    {
      "cell_type": "code",
      "source": [
        "pip install confluent-kafka\n"
      ],
      "metadata": {
        "colab": {
          "base_uri": "https://localhost:8080/"
        },
        "id": "BkyhxLw9JSTU",
        "outputId": "5f325f37-2d30-4f5a-976e-344a9cd8fe83"
      },
      "execution_count": 112,
      "outputs": [
        {
          "output_type": "stream",
          "name": "stdout",
          "text": [
            "Requirement already satisfied: confluent-kafka in /usr/local/lib/python3.10/dist-packages (2.5.0)\n"
          ]
        }
      ]
    },
    {
      "cell_type": "code",
      "source": [
        "from confluent_kafka import Producer\n",
        "import json\n"
      ],
      "metadata": {
        "id": "J00DUmOjJScN"
      },
      "execution_count": 113,
      "outputs": []
    },
    {
      "cell_type": "code",
      "source": [
        "conf = {'bootstrap.servers': 'localhost:9092'}"
      ],
      "metadata": {
        "id": "lt7fqXffJSgX"
      },
      "execution_count": 114,
      "outputs": []
    },
    {
      "cell_type": "code",
      "source": [
        "producer = Producer(conf)"
      ],
      "metadata": {
        "id": "cu9XUGUoJSkW"
      },
      "execution_count": 115,
      "outputs": []
    },
    {
      "cell_type": "code",
      "source": [
        "def delivery_report(err, msg):\n",
        "    if err is not None:\n",
        "        print('Message delivery failed: {}'.format(err))\n",
        "    else:\n",
        "        print('Message delivered to {} [{}]'.format(msg.topic(), msg.partition()))\n"
      ],
      "metadata": {
        "id": "gL0MK6GzJSpd"
      },
      "execution_count": 116,
      "outputs": []
    },
    {
      "cell_type": "code",
      "source": [
        "for i in range(100):\n",
        "    data = {'message': f'Test message {i}'}\n",
        "    producer.produce('my_topic', key=str(i), value=json.dumps(data), callback=delivery_report)\n",
        "    producer.poll(0)\n"
      ],
      "metadata": {
        "id": "STPSCF1cIRD4"
      },
      "execution_count": 117,
      "outputs": []
    },
    {
      "cell_type": "code",
      "source": [
        "producer.flush()"
      ],
      "metadata": {
        "id": "2EckIKtBIHg9"
      },
      "execution_count": null,
      "outputs": []
    }
  ]
}